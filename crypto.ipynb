{
  "nbformat": 4,
  "nbformat_minor": 0,
  "metadata": {
    "kernelspec": {
      "language": "python",
      "display_name": "Python 3",
      "name": "python3"
    },
    "language_info": {
      "pygments_lexer": "ipython3",
      "nbconvert_exporter": "python",
      "version": "3.6.4",
      "file_extension": ".py",
      "codemirror_mode": {
        "name": "ipython",
        "version": 3
      },
      "name": "python",
      "mimetype": "text/x-python"
    },
    "colab": {
      "name": "crypto.ipynb",
      "provenance": [],
      "collapsed_sections": [],
      "include_colab_link": true
    },
    "accelerator": "GPU"
  },
  "cells": [
    {
      "cell_type": "markdown",
      "metadata": {
        "id": "view-in-github",
        "colab_type": "text"
      },
      "source": [
        "<a href=\"https://colab.research.google.com/github/adimalhotra11/CryptoPricePrediction/blob/master/crypto.ipynb\" target=\"_parent\"><img src=\"https://colab.research.google.com/assets/colab-badge.svg\" alt=\"Open In Colab\"/></a>"
      ]
    },
    {
      "cell_type": "code",
      "metadata": {
        "id": "NeWVBhf1VxlH"
      },
      "source": [
        "%tensorflow_version 2.x\n",
        "import json\n",
        "import requests\n",
        "from keras.models import Sequential\n",
        "from keras.layers import Activation, Dense, Dropout, LSTM\n",
        "import matplotlib.pyplot as plt\n",
        "import numpy as np\n",
        "import pandas as pd\n",
        "import seaborn as sns\n",
        "from sklearn.metrics import mean_absolute_error\n",
        "%matplotlib inline"
      ],
      "execution_count": 1,
      "outputs": []
    },
    {
      "cell_type": "code",
      "metadata": {
        "_uuid": "d629ff2d2480ee46fbb7e2d37f6b5fab8052498a",
        "_cell_guid": "79c7e3d0-c299-4dcb-8224-4455121ee9b0",
        "trusted": true,
        "id": "6W__OM92pskF"
      },
      "source": [
        "endpoint = 'https://min-api.cryptocompare.com/data/histoday'\n",
        "res = requests.get(endpoint + '?fsym=BTC&tsym=USD&limit=1000')\n"
      ],
      "execution_count": 2,
      "outputs": []
    },
    {
      "cell_type": "code",
      "metadata": {
        "id": "SEsvccRhK0LF"
      },
      "source": [
        "df = pd.DataFrame(json.loads(res.content)['Data'])\n",
        "df = df.set_index('time')\n",
        "df.index = pd.to_datetime(df.index, unit='s')\n",
        "target_col = 'close'"
      ],
      "execution_count": 3,
      "outputs": []
    },
    {
      "cell_type": "code",
      "metadata": {
        "colab": {
          "base_uri": "https://localhost:8080/",
          "height": 235
        },
        "id": "aP_vCJDXItjN",
        "outputId": "21a2b5d4-e505-4270-c7f3-d1b1c2eaca15"
      },
      "source": [
        "df.head(5)"
      ],
      "execution_count": 4,
      "outputs": [
        {
          "output_type": "execute_result",
          "data": {
            "text/html": [
              "<div>\n",
              "<style scoped>\n",
              "    .dataframe tbody tr th:only-of-type {\n",
              "        vertical-align: middle;\n",
              "    }\n",
              "\n",
              "    .dataframe tbody tr th {\n",
              "        vertical-align: top;\n",
              "    }\n",
              "\n",
              "    .dataframe thead th {\n",
              "        text-align: right;\n",
              "    }\n",
              "</style>\n",
              "<table border=\"1\" class=\"dataframe\">\n",
              "  <thead>\n",
              "    <tr style=\"text-align: right;\">\n",
              "      <th></th>\n",
              "      <th>high</th>\n",
              "      <th>low</th>\n",
              "      <th>open</th>\n",
              "      <th>volumefrom</th>\n",
              "      <th>volumeto</th>\n",
              "      <th>close</th>\n",
              "      <th>conversionType</th>\n",
              "      <th>conversionSymbol</th>\n",
              "    </tr>\n",
              "    <tr>\n",
              "      <th>time</th>\n",
              "      <th></th>\n",
              "      <th></th>\n",
              "      <th></th>\n",
              "      <th></th>\n",
              "      <th></th>\n",
              "      <th></th>\n",
              "      <th></th>\n",
              "      <th></th>\n",
              "    </tr>\n",
              "  </thead>\n",
              "  <tbody>\n",
              "    <tr>\n",
              "      <th>2019-01-31</th>\n",
              "      <td>3499.78</td>\n",
              "      <td>3422.83</td>\n",
              "      <td>3467.21</td>\n",
              "      <td>37365.70</td>\n",
              "      <td>1.287739e+08</td>\n",
              "      <td>3434.13</td>\n",
              "      <td>direct</td>\n",
              "      <td></td>\n",
              "    </tr>\n",
              "    <tr>\n",
              "      <th>2019-02-01</th>\n",
              "      <td>3478.55</td>\n",
              "      <td>3398.96</td>\n",
              "      <td>3434.13</td>\n",
              "      <td>41976.43</td>\n",
              "      <td>1.444761e+08</td>\n",
              "      <td>3461.63</td>\n",
              "      <td>direct</td>\n",
              "      <td></td>\n",
              "    </tr>\n",
              "    <tr>\n",
              "      <th>2019-02-02</th>\n",
              "      <td>3519.14</td>\n",
              "      <td>3441.21</td>\n",
              "      <td>3461.63</td>\n",
              "      <td>27103.48</td>\n",
              "      <td>9.414419e+07</td>\n",
              "      <td>3508.68</td>\n",
              "      <td>direct</td>\n",
              "      <td></td>\n",
              "    </tr>\n",
              "    <tr>\n",
              "      <th>2019-02-03</th>\n",
              "      <td>3514.43</td>\n",
              "      <td>3424.42</td>\n",
              "      <td>3508.68</td>\n",
              "      <td>23044.88</td>\n",
              "      <td>7.959122e+07</td>\n",
              "      <td>3449.62</td>\n",
              "      <td>direct</td>\n",
              "      <td></td>\n",
              "    </tr>\n",
              "    <tr>\n",
              "      <th>2019-02-04</th>\n",
              "      <td>3470.80</td>\n",
              "      <td>3429.21</td>\n",
              "      <td>3449.62</td>\n",
              "      <td>23959.61</td>\n",
              "      <td>8.228089e+07</td>\n",
              "      <td>3431.24</td>\n",
              "      <td>direct</td>\n",
              "      <td></td>\n",
              "    </tr>\n",
              "  </tbody>\n",
              "</table>\n",
              "</div>"
            ],
            "text/plain": [
              "               high      low     open  ...    close  conversionType  conversionSymbol\n",
              "time                                   ...                                           \n",
              "2019-01-31  3499.78  3422.83  3467.21  ...  3434.13          direct                  \n",
              "2019-02-01  3478.55  3398.96  3434.13  ...  3461.63          direct                  \n",
              "2019-02-02  3519.14  3441.21  3461.63  ...  3508.68          direct                  \n",
              "2019-02-03  3514.43  3424.42  3508.68  ...  3449.62          direct                  \n",
              "2019-02-04  3470.80  3429.21  3449.62  ...  3431.24          direct                  \n",
              "\n",
              "[5 rows x 8 columns]"
            ]
          },
          "metadata": {},
          "execution_count": 4
        }
      ]
    },
    {
      "cell_type": "code",
      "metadata": {
        "colab": {
          "base_uri": "https://localhost:8080/",
          "height": 390
        },
        "id": "FY75A876IwMh",
        "outputId": "850b1058-27e5-4cb7-9be9-f3c70857fa38"
      },
      "source": [
        "df.tail(10)"
      ],
      "execution_count": 5,
      "outputs": [
        {
          "output_type": "execute_result",
          "data": {
            "text/html": [
              "<div>\n",
              "<style scoped>\n",
              "    .dataframe tbody tr th:only-of-type {\n",
              "        vertical-align: middle;\n",
              "    }\n",
              "\n",
              "    .dataframe tbody tr th {\n",
              "        vertical-align: top;\n",
              "    }\n",
              "\n",
              "    .dataframe thead th {\n",
              "        text-align: right;\n",
              "    }\n",
              "</style>\n",
              "<table border=\"1\" class=\"dataframe\">\n",
              "  <thead>\n",
              "    <tr style=\"text-align: right;\">\n",
              "      <th></th>\n",
              "      <th>high</th>\n",
              "      <th>low</th>\n",
              "      <th>open</th>\n",
              "      <th>volumefrom</th>\n",
              "      <th>volumeto</th>\n",
              "      <th>close</th>\n",
              "      <th>conversionType</th>\n",
              "      <th>conversionSymbol</th>\n",
              "    </tr>\n",
              "    <tr>\n",
              "      <th>time</th>\n",
              "      <th></th>\n",
              "      <th></th>\n",
              "      <th></th>\n",
              "      <th></th>\n",
              "      <th></th>\n",
              "      <th></th>\n",
              "      <th></th>\n",
              "      <th></th>\n",
              "    </tr>\n",
              "  </thead>\n",
              "  <tbody>\n",
              "    <tr>\n",
              "      <th>2021-10-18</th>\n",
              "      <td>62662.72</td>\n",
              "      <td>59925.93</td>\n",
              "      <td>61520.54</td>\n",
              "      <td>50489.09</td>\n",
              "      <td>3.113486e+09</td>\n",
              "      <td>62038.16</td>\n",
              "      <td>direct</td>\n",
              "      <td></td>\n",
              "    </tr>\n",
              "    <tr>\n",
              "      <th>2021-10-19</th>\n",
              "      <td>64468.70</td>\n",
              "      <td>61410.11</td>\n",
              "      <td>62038.16</td>\n",
              "      <td>42983.11</td>\n",
              "      <td>2.706420e+09</td>\n",
              "      <td>64283.97</td>\n",
              "      <td>direct</td>\n",
              "      <td></td>\n",
              "    </tr>\n",
              "    <tr>\n",
              "      <th>2021-10-20</th>\n",
              "      <td>66980.66</td>\n",
              "      <td>63543.70</td>\n",
              "      <td>64283.97</td>\n",
              "      <td>45364.94</td>\n",
              "      <td>2.978059e+09</td>\n",
              "      <td>66021.02</td>\n",
              "      <td>direct</td>\n",
              "      <td></td>\n",
              "    </tr>\n",
              "    <tr>\n",
              "      <th>2021-10-21</th>\n",
              "      <td>66645.73</td>\n",
              "      <td>62076.16</td>\n",
              "      <td>66021.02</td>\n",
              "      <td>62097.42</td>\n",
              "      <td>3.962470e+09</td>\n",
              "      <td>62283.96</td>\n",
              "      <td>direct</td>\n",
              "      <td></td>\n",
              "    </tr>\n",
              "    <tr>\n",
              "      <th>2021-10-22</th>\n",
              "      <td>63731.17</td>\n",
              "      <td>60017.23</td>\n",
              "      <td>62283.96</td>\n",
              "      <td>40476.42</td>\n",
              "      <td>2.504718e+09</td>\n",
              "      <td>60693.59</td>\n",
              "      <td>direct</td>\n",
              "      <td></td>\n",
              "    </tr>\n",
              "    <tr>\n",
              "      <th>2021-10-23</th>\n",
              "      <td>61733.43</td>\n",
              "      <td>59705.11</td>\n",
              "      <td>60693.59</td>\n",
              "      <td>16232.50</td>\n",
              "      <td>9.903601e+08</td>\n",
              "      <td>61313.09</td>\n",
              "      <td>direct</td>\n",
              "      <td></td>\n",
              "    </tr>\n",
              "    <tr>\n",
              "      <th>2021-10-24</th>\n",
              "      <td>61481.25</td>\n",
              "      <td>59529.34</td>\n",
              "      <td>61313.09</td>\n",
              "      <td>19158.07</td>\n",
              "      <td>1.158839e+09</td>\n",
              "      <td>60863.56</td>\n",
              "      <td>direct</td>\n",
              "      <td></td>\n",
              "    </tr>\n",
              "    <tr>\n",
              "      <th>2021-10-25</th>\n",
              "      <td>63709.97</td>\n",
              "      <td>60658.35</td>\n",
              "      <td>60863.56</td>\n",
              "      <td>24693.91</td>\n",
              "      <td>1.549309e+09</td>\n",
              "      <td>63089.04</td>\n",
              "      <td>direct</td>\n",
              "      <td></td>\n",
              "    </tr>\n",
              "    <tr>\n",
              "      <th>2021-10-26</th>\n",
              "      <td>63290.04</td>\n",
              "      <td>59868.68</td>\n",
              "      <td>63089.04</td>\n",
              "      <td>28107.19</td>\n",
              "      <td>1.738003e+09</td>\n",
              "      <td>60315.68</td>\n",
              "      <td>direct</td>\n",
              "      <td></td>\n",
              "    </tr>\n",
              "    <tr>\n",
              "      <th>2021-10-27</th>\n",
              "      <td>61473.00</td>\n",
              "      <td>58128.18</td>\n",
              "      <td>60315.68</td>\n",
              "      <td>38865.16</td>\n",
              "      <td>2.308342e+09</td>\n",
              "      <td>58391.06</td>\n",
              "      <td>direct</td>\n",
              "      <td></td>\n",
              "    </tr>\n",
              "  </tbody>\n",
              "</table>\n",
              "</div>"
            ],
            "text/plain": [
              "                high       low  ...  conversionType  conversionSymbol\n",
              "time                            ...                                  \n",
              "2021-10-18  62662.72  59925.93  ...          direct                  \n",
              "2021-10-19  64468.70  61410.11  ...          direct                  \n",
              "2021-10-20  66980.66  63543.70  ...          direct                  \n",
              "2021-10-21  66645.73  62076.16  ...          direct                  \n",
              "2021-10-22  63731.17  60017.23  ...          direct                  \n",
              "2021-10-23  61733.43  59705.11  ...          direct                  \n",
              "2021-10-24  61481.25  59529.34  ...          direct                  \n",
              "2021-10-25  63709.97  60658.35  ...          direct                  \n",
              "2021-10-26  63290.04  59868.68  ...          direct                  \n",
              "2021-10-27  61473.00  58128.18  ...          direct                  \n",
              "\n",
              "[10 rows x 8 columns]"
            ]
          },
          "metadata": {},
          "execution_count": 5
        }
      ]
    },
    {
      "cell_type": "markdown",
      "metadata": {
        "id": "tucXtT35LehG"
      },
      "source": [
        "### I have to get rid of conversionType and conversionSymbol as they are not required."
      ]
    },
    {
      "cell_type": "code",
      "metadata": {
        "id": "HO-Fl3pqLeUA"
      },
      "source": [
        "df = df.drop([\"conversionType\", \"conversionSymbol\"], axis = 'columns')\n"
      ],
      "execution_count": 6,
      "outputs": []
    },
    {
      "cell_type": "code",
      "metadata": {
        "colab": {
          "base_uri": "https://localhost:8080/",
          "height": 700
        },
        "id": "1tK7vM95Lx28",
        "outputId": "8c5ee681-c553-43e3-d2f1-6b5097beb2a0"
      },
      "source": [
        "df.head(20)"
      ],
      "execution_count": 7,
      "outputs": [
        {
          "output_type": "execute_result",
          "data": {
            "text/html": [
              "<div>\n",
              "<style scoped>\n",
              "    .dataframe tbody tr th:only-of-type {\n",
              "        vertical-align: middle;\n",
              "    }\n",
              "\n",
              "    .dataframe tbody tr th {\n",
              "        vertical-align: top;\n",
              "    }\n",
              "\n",
              "    .dataframe thead th {\n",
              "        text-align: right;\n",
              "    }\n",
              "</style>\n",
              "<table border=\"1\" class=\"dataframe\">\n",
              "  <thead>\n",
              "    <tr style=\"text-align: right;\">\n",
              "      <th></th>\n",
              "      <th>high</th>\n",
              "      <th>low</th>\n",
              "      <th>open</th>\n",
              "      <th>volumefrom</th>\n",
              "      <th>volumeto</th>\n",
              "      <th>close</th>\n",
              "    </tr>\n",
              "    <tr>\n",
              "      <th>time</th>\n",
              "      <th></th>\n",
              "      <th></th>\n",
              "      <th></th>\n",
              "      <th></th>\n",
              "      <th></th>\n",
              "      <th></th>\n",
              "    </tr>\n",
              "  </thead>\n",
              "  <tbody>\n",
              "    <tr>\n",
              "      <th>2019-01-31</th>\n",
              "      <td>3499.78</td>\n",
              "      <td>3422.83</td>\n",
              "      <td>3467.21</td>\n",
              "      <td>37365.70</td>\n",
              "      <td>1.287739e+08</td>\n",
              "      <td>3434.13</td>\n",
              "    </tr>\n",
              "    <tr>\n",
              "      <th>2019-02-01</th>\n",
              "      <td>3478.55</td>\n",
              "      <td>3398.96</td>\n",
              "      <td>3434.13</td>\n",
              "      <td>41976.43</td>\n",
              "      <td>1.444761e+08</td>\n",
              "      <td>3461.63</td>\n",
              "    </tr>\n",
              "    <tr>\n",
              "      <th>2019-02-02</th>\n",
              "      <td>3519.14</td>\n",
              "      <td>3441.21</td>\n",
              "      <td>3461.63</td>\n",
              "      <td>27103.48</td>\n",
              "      <td>9.414419e+07</td>\n",
              "      <td>3508.68</td>\n",
              "    </tr>\n",
              "    <tr>\n",
              "      <th>2019-02-03</th>\n",
              "      <td>3514.43</td>\n",
              "      <td>3424.42</td>\n",
              "      <td>3508.68</td>\n",
              "      <td>23044.88</td>\n",
              "      <td>7.959122e+07</td>\n",
              "      <td>3449.62</td>\n",
              "    </tr>\n",
              "    <tr>\n",
              "      <th>2019-02-04</th>\n",
              "      <td>3470.80</td>\n",
              "      <td>3429.21</td>\n",
              "      <td>3449.62</td>\n",
              "      <td>23959.61</td>\n",
              "      <td>8.228089e+07</td>\n",
              "      <td>3431.24</td>\n",
              "    </tr>\n",
              "    <tr>\n",
              "      <th>2019-02-05</th>\n",
              "      <td>3447.88</td>\n",
              "      <td>3415.67</td>\n",
              "      <td>3431.24</td>\n",
              "      <td>24459.49</td>\n",
              "      <td>8.404273e+07</td>\n",
              "      <td>3447.66</td>\n",
              "    </tr>\n",
              "    <tr>\n",
              "      <th>2019-02-06</th>\n",
              "      <td>3459.33</td>\n",
              "      <td>3362.24</td>\n",
              "      <td>3447.66</td>\n",
              "      <td>44281.79</td>\n",
              "      <td>1.504086e+08</td>\n",
              "      <td>3394.89</td>\n",
              "    </tr>\n",
              "    <tr>\n",
              "      <th>2019-02-07</th>\n",
              "      <td>3406.54</td>\n",
              "      <td>3369.10</td>\n",
              "      <td>3394.89</td>\n",
              "      <td>28811.35</td>\n",
              "      <td>9.739090e+07</td>\n",
              "      <td>3375.33</td>\n",
              "    </tr>\n",
              "    <tr>\n",
              "      <th>2019-02-08</th>\n",
              "      <td>3735.10</td>\n",
              "      <td>3363.32</td>\n",
              "      <td>3375.33</td>\n",
              "      <td>89444.22</td>\n",
              "      <td>3.170230e+08</td>\n",
              "      <td>3660.03</td>\n",
              "    </tr>\n",
              "    <tr>\n",
              "      <th>2019-02-09</th>\n",
              "      <td>3673.71</td>\n",
              "      <td>3616.11</td>\n",
              "      <td>3660.03</td>\n",
              "      <td>25880.75</td>\n",
              "      <td>9.420059e+07</td>\n",
              "      <td>3652.26</td>\n",
              "    </tr>\n",
              "    <tr>\n",
              "      <th>2019-02-10</th>\n",
              "      <td>3689.32</td>\n",
              "      <td>3611.46</td>\n",
              "      <td>3652.26</td>\n",
              "      <td>30046.26</td>\n",
              "      <td>1.093651e+08</td>\n",
              "      <td>3685.14</td>\n",
              "    </tr>\n",
              "    <tr>\n",
              "      <th>2019-02-11</th>\n",
              "      <td>3688.59</td>\n",
              "      <td>3608.18</td>\n",
              "      <td>3685.14</td>\n",
              "      <td>40461.58</td>\n",
              "      <td>1.463541e+08</td>\n",
              "      <td>3611.34</td>\n",
              "    </tr>\n",
              "    <tr>\n",
              "      <th>2019-02-12</th>\n",
              "      <td>3648.67</td>\n",
              "      <td>3574.22</td>\n",
              "      <td>3611.34</td>\n",
              "      <td>45717.05</td>\n",
              "      <td>1.648164e+08</td>\n",
              "      <td>3617.41</td>\n",
              "    </tr>\n",
              "    <tr>\n",
              "      <th>2019-02-13</th>\n",
              "      <td>3655.89</td>\n",
              "      <td>3590.01</td>\n",
              "      <td>3617.41</td>\n",
              "      <td>40664.15</td>\n",
              "      <td>1.468223e+08</td>\n",
              "      <td>3605.87</td>\n",
              "    </tr>\n",
              "    <tr>\n",
              "      <th>2019-02-14</th>\n",
              "      <td>3619.70</td>\n",
              "      <td>3567.39</td>\n",
              "      <td>3605.87</td>\n",
              "      <td>32779.35</td>\n",
              "      <td>1.178049e+08</td>\n",
              "      <td>3588.72</td>\n",
              "    </tr>\n",
              "    <tr>\n",
              "      <th>2019-02-15</th>\n",
              "      <td>3640.65</td>\n",
              "      <td>3575.95</td>\n",
              "      <td>3588.72</td>\n",
              "      <td>36251.38</td>\n",
              "      <td>1.303990e+08</td>\n",
              "      <td>3593.49</td>\n",
              "    </tr>\n",
              "    <tr>\n",
              "      <th>2019-02-16</th>\n",
              "      <td>3639.75</td>\n",
              "      <td>3592.04</td>\n",
              "      <td>3593.49</td>\n",
              "      <td>24003.59</td>\n",
              "      <td>8.697382e+07</td>\n",
              "      <td>3617.24</td>\n",
              "    </tr>\n",
              "    <tr>\n",
              "      <th>2019-02-17</th>\n",
              "      <td>3706.17</td>\n",
              "      <td>3608.18</td>\n",
              "      <td>3617.24</td>\n",
              "      <td>36849.32</td>\n",
              "      <td>1.342183e+08</td>\n",
              "      <td>3670.92</td>\n",
              "    </tr>\n",
              "    <tr>\n",
              "      <th>2019-02-18</th>\n",
              "      <td>3952.44</td>\n",
              "      <td>3661.42</td>\n",
              "      <td>3670.92</td>\n",
              "      <td>98728.99</td>\n",
              "      <td>3.762033e+08</td>\n",
              "      <td>3912.57</td>\n",
              "    </tr>\n",
              "    <tr>\n",
              "      <th>2019-02-19</th>\n",
              "      <td>4010.91</td>\n",
              "      <td>3882.52</td>\n",
              "      <td>3912.57</td>\n",
              "      <td>74127.62</td>\n",
              "      <td>2.921371e+08</td>\n",
              "      <td>3924.24</td>\n",
              "    </tr>\n",
              "  </tbody>\n",
              "</table>\n",
              "</div>"
            ],
            "text/plain": [
              "               high      low     open  volumefrom      volumeto    close\n",
              "time                                                                    \n",
              "2019-01-31  3499.78  3422.83  3467.21    37365.70  1.287739e+08  3434.13\n",
              "2019-02-01  3478.55  3398.96  3434.13    41976.43  1.444761e+08  3461.63\n",
              "2019-02-02  3519.14  3441.21  3461.63    27103.48  9.414419e+07  3508.68\n",
              "2019-02-03  3514.43  3424.42  3508.68    23044.88  7.959122e+07  3449.62\n",
              "2019-02-04  3470.80  3429.21  3449.62    23959.61  8.228089e+07  3431.24\n",
              "2019-02-05  3447.88  3415.67  3431.24    24459.49  8.404273e+07  3447.66\n",
              "2019-02-06  3459.33  3362.24  3447.66    44281.79  1.504086e+08  3394.89\n",
              "2019-02-07  3406.54  3369.10  3394.89    28811.35  9.739090e+07  3375.33\n",
              "2019-02-08  3735.10  3363.32  3375.33    89444.22  3.170230e+08  3660.03\n",
              "2019-02-09  3673.71  3616.11  3660.03    25880.75  9.420059e+07  3652.26\n",
              "2019-02-10  3689.32  3611.46  3652.26    30046.26  1.093651e+08  3685.14\n",
              "2019-02-11  3688.59  3608.18  3685.14    40461.58  1.463541e+08  3611.34\n",
              "2019-02-12  3648.67  3574.22  3611.34    45717.05  1.648164e+08  3617.41\n",
              "2019-02-13  3655.89  3590.01  3617.41    40664.15  1.468223e+08  3605.87\n",
              "2019-02-14  3619.70  3567.39  3605.87    32779.35  1.178049e+08  3588.72\n",
              "2019-02-15  3640.65  3575.95  3588.72    36251.38  1.303990e+08  3593.49\n",
              "2019-02-16  3639.75  3592.04  3593.49    24003.59  8.697382e+07  3617.24\n",
              "2019-02-17  3706.17  3608.18  3617.24    36849.32  1.342183e+08  3670.92\n",
              "2019-02-18  3952.44  3661.42  3670.92    98728.99  3.762033e+08  3912.57\n",
              "2019-02-19  4010.91  3882.52  3912.57    74127.62  2.921371e+08  3924.24"
            ]
          },
          "metadata": {},
          "execution_count": 7
        }
      ]
    },
    {
      "cell_type": "code",
      "metadata": {
        "colab": {
          "base_uri": "https://localhost:8080/",
          "height": 297
        },
        "id": "q5Bu2UNzJDHf",
        "outputId": "595cc177-fc8b-40ed-d33e-b3264d7f0259"
      },
      "source": [
        "df.describe()"
      ],
      "execution_count": 8,
      "outputs": [
        {
          "output_type": "execute_result",
          "data": {
            "text/html": [
              "<div>\n",
              "<style scoped>\n",
              "    .dataframe tbody tr th:only-of-type {\n",
              "        vertical-align: middle;\n",
              "    }\n",
              "\n",
              "    .dataframe tbody tr th {\n",
              "        vertical-align: top;\n",
              "    }\n",
              "\n",
              "    .dataframe thead th {\n",
              "        text-align: right;\n",
              "    }\n",
              "</style>\n",
              "<table border=\"1\" class=\"dataframe\">\n",
              "  <thead>\n",
              "    <tr style=\"text-align: right;\">\n",
              "      <th></th>\n",
              "      <th>high</th>\n",
              "      <th>low</th>\n",
              "      <th>open</th>\n",
              "      <th>volumefrom</th>\n",
              "      <th>volumeto</th>\n",
              "      <th>close</th>\n",
              "    </tr>\n",
              "  </thead>\n",
              "  <tbody>\n",
              "    <tr>\n",
              "      <th>count</th>\n",
              "      <td>1001.000000</td>\n",
              "      <td>1001.000000</td>\n",
              "      <td>1001.000000</td>\n",
              "      <td>1001.000000</td>\n",
              "      <td>1.001000e+03</td>\n",
              "      <td>1001.000000</td>\n",
              "    </tr>\n",
              "    <tr>\n",
              "      <th>mean</th>\n",
              "      <td>20900.435724</td>\n",
              "      <td>19638.348462</td>\n",
              "      <td>20291.507702</td>\n",
              "      <td>48197.196484</td>\n",
              "      <td>9.990823e+08</td>\n",
              "      <td>20346.376294</td>\n",
              "    </tr>\n",
              "    <tr>\n",
              "      <th>std</th>\n",
              "      <td>18237.071951</td>\n",
              "      <td>17054.966102</td>\n",
              "      <td>17680.225261</td>\n",
              "      <td>32724.066075</td>\n",
              "      <td>1.166094e+09</td>\n",
              "      <td>17713.165728</td>\n",
              "    </tr>\n",
              "    <tr>\n",
              "      <th>min</th>\n",
              "      <td>3406.540000</td>\n",
              "      <td>3362.240000</td>\n",
              "      <td>3375.330000</td>\n",
              "      <td>9355.130000</td>\n",
              "      <td>5.672743e+07</td>\n",
              "      <td>3375.330000</td>\n",
              "    </tr>\n",
              "    <tr>\n",
              "      <th>25%</th>\n",
              "      <td>8414.240000</td>\n",
              "      <td>8047.730000</td>\n",
              "      <td>8215.110000</td>\n",
              "      <td>27469.690000</td>\n",
              "      <td>2.633903e+08</td>\n",
              "      <td>8223.250000</td>\n",
              "    </tr>\n",
              "    <tr>\n",
              "      <th>50%</th>\n",
              "      <td>10578.970000</td>\n",
              "      <td>10101.870000</td>\n",
              "      <td>10365.560000</td>\n",
              "      <td>40370.000000</td>\n",
              "      <td>4.869364e+08</td>\n",
              "      <td>10372.290000</td>\n",
              "    </tr>\n",
              "    <tr>\n",
              "      <th>75%</th>\n",
              "      <td>35945.360000</td>\n",
              "      <td>33333.050000</td>\n",
              "      <td>34611.580000</td>\n",
              "      <td>57692.170000</td>\n",
              "      <td>1.388244e+09</td>\n",
              "      <td>34649.840000</td>\n",
              "    </tr>\n",
              "    <tr>\n",
              "      <th>max</th>\n",
              "      <td>66980.660000</td>\n",
              "      <td>63543.700000</td>\n",
              "      <td>66021.020000</td>\n",
              "      <td>319316.540000</td>\n",
              "      <td>1.112022e+10</td>\n",
              "      <td>66021.020000</td>\n",
              "    </tr>\n",
              "  </tbody>\n",
              "</table>\n",
              "</div>"
            ],
            "text/plain": [
              "               high           low  ...      volumeto         close\n",
              "count   1001.000000   1001.000000  ...  1.001000e+03   1001.000000\n",
              "mean   20900.435724  19638.348462  ...  9.990823e+08  20346.376294\n",
              "std    18237.071951  17054.966102  ...  1.166094e+09  17713.165728\n",
              "min     3406.540000   3362.240000  ...  5.672743e+07   3375.330000\n",
              "25%     8414.240000   8047.730000  ...  2.633903e+08   8223.250000\n",
              "50%    10578.970000  10101.870000  ...  4.869364e+08  10372.290000\n",
              "75%    35945.360000  33333.050000  ...  1.388244e+09  34649.840000\n",
              "max    66980.660000  63543.700000  ...  1.112022e+10  66021.020000\n",
              "\n",
              "[8 rows x 6 columns]"
            ]
          },
          "metadata": {},
          "execution_count": 8
        }
      ]
    },
    {
      "cell_type": "code",
      "metadata": {
        "colab": {
          "base_uri": "https://localhost:8080/"
        },
        "id": "BadcfirtL6Lr",
        "outputId": "734a9711-80d4-4ef3-d941-41ccc57f0300"
      },
      "source": [
        "print(\"Our data starts from:\",df.index[0],\"and ends at(updated today): \", df.index[-1])"
      ],
      "execution_count": 9,
      "outputs": [
        {
          "output_type": "stream",
          "name": "stdout",
          "text": [
            "Our data starts from: 2019-01-31 00:00:00 and ends at(updated today):  2021-10-27 00:00:00\n"
          ]
        }
      ]
    },
    {
      "cell_type": "code",
      "metadata": {
        "id": "HgfCkw-KJDFJ"
      },
      "source": [
        "def box_plot(x1,label1=None, title='', lw=2):\n",
        "    fig, ax = plt.subplots(1, figsize=(13, 7))\n",
        "    ax.plot(line1, label=label1, linewidth=lw)\n",
        "    ax.plot(line2, label=label2, linewidth=lw)\n",
        "    ax.set_ylabel('price [CAD]', fontsize=14)\n",
        "    ax.set_title(title, fontsize=16)\n",
        "    ax.legend(loc='best', fontsize=16);"
      ],
      "execution_count": 10,
      "outputs": []
    },
    {
      "cell_type": "code",
      "metadata": {
        "id": "MvlB5i0OJDDD"
      },
      "source": [
        ""
      ],
      "execution_count": 10,
      "outputs": []
    },
    {
      "cell_type": "code",
      "metadata": {
        "trusted": true,
        "id": "0Ykh8CHfpskJ"
      },
      "source": [
        "def train_test_split(df, test_size=0.2):\n",
        "    split_row = len(df) - int(test_size * len(df))\n",
        "    train_data = df.iloc[:split_row]\n",
        "    test_data = df.iloc[split_row:]\n",
        "    return train_data, test_data"
      ],
      "execution_count": 11,
      "outputs": []
    },
    {
      "cell_type": "code",
      "metadata": {
        "trusted": true,
        "id": "PWKGJlxIpskM"
      },
      "source": [
        "train, test = train_test_split(df, test_size=0.2)"
      ],
      "execution_count": 12,
      "outputs": []
    },
    {
      "cell_type": "code",
      "metadata": {
        "trusted": true,
        "id": "jqfrJbQhpskP"
      },
      "source": [
        "def line_plot(line1, line2, label1=None, label2=None, title='', lw=2):\n",
        "    fig, ax = plt.subplots(1, figsize=(13, 7))\n",
        "    ax.plot(line1, label=label1, linewidth=lw)\n",
        "    ax.plot(line2, label=label2, linewidth=lw)\n",
        "    ax.set_ylabel('price [CAD]', fontsize=14)\n",
        "    ax.set_title(title, fontsize=16)\n",
        "    ax.legend(loc='best', fontsize=16);"
      ],
      "execution_count": 13,
      "outputs": []
    },
    {
      "cell_type": "code",
      "metadata": {
        "trusted": true,
        "id": "9F_YTCCxpskS",
        "colab": {
          "base_uri": "https://localhost:8080/",
          "height": 428
        },
        "outputId": "69376b73-da19-4186-9294-fb47ce22bdee"
      },
      "source": [
        "line_plot(train[target_col], test[target_col], 'training', 'test', title='')"
      ],
      "execution_count": 14,
      "outputs": [
        {
          "output_type": "display_data",
          "data": {
            "image/png": "[encoded data removed]",
            "text/plain": [
              "<Figure size 936x504 with 1 Axes>"
            ]
          },
          "metadata": {
            "needs_background": "light"
          }
        }
      ]
    },
    {
      "cell_type": "code",
      "metadata": {
        "trusted": true,
        "id": "iy-je3_bpskb"
      },
      "source": [
        "def normalise_zero_base(df):\n",
        "    return df / df.iloc[0] - 1\n",
        "\n",
        "def normalise_min_max(df):\n",
        "    return (df - df.min()) / (data.max() - df.min())"
      ],
      "execution_count": 15,
      "outputs": []
    },
    {
      "cell_type": "code",
      "metadata": {
        "trusted": true,
        "id": "zteL5amIpskh"
      },
      "source": [
        "def extract_window_data(df, window_len=5, zero_base=True):\n",
        "    window_data = []\n",
        "    for idx in range(len(df) - window_len):\n",
        "        tmp = df[idx: (idx + window_len)].copy()\n",
        "        if zero_base:\n",
        "            tmp = normalise_zero_base(tmp)\n",
        "        window_data.append(tmp.values)\n",
        "    return np.array(window_data)"
      ],
      "execution_count": 16,
      "outputs": []
    },
    {
      "cell_type": "code",
      "metadata": {
        "trusted": true,
        "id": "aTBbhnezpskk"
      },
      "source": [
        "def prepare_data(df, target_col, window_len=10, zero_base=True, test_size=0.2):\n",
        "    train_data, test_data = train_test_split(df, test_size=test_size)\n",
        "    X_train = extract_window_data(train_data, window_len, zero_base)\n",
        "    X_test = extract_window_data(test_data, window_len, zero_base)\n",
        "    y_train = train_data[target_col][window_len:].values\n",
        "    y_test = test_data[target_col][window_len:].values\n",
        "    if zero_base:\n",
        "        y_train = y_train / train_data[target_col][:-window_len].values - 1\n",
        "        y_test = y_test / test_data[target_col][:-window_len].values - 1\n",
        "\n",
        "    return train_data, test_data, X_train, X_test, y_train, y_test"
      ],
      "execution_count": 17,
      "outputs": []
    },
    {
      "cell_type": "code",
      "metadata": {
        "trusted": true,
        "id": "VjWtS2qJpskn"
      },
      "source": [
        "def build_lstm_model(input_data, output_size, neurons=100, activ_func='linear',\n",
        "                     dropout=0.2, loss='mse', optimizer='adam'):\n",
        "    model = Sequential()\n",
        "    model.add(LSTM(neurons, input_shape=(input_data.shape[1], input_data.shape[2])))\n",
        "    model.add(Dropout(dropout))\n",
        "    model.add(Dense(units=output_size))\n",
        "    model.add(Activation(activ_func))\n",
        "\n",
        "    model.compile(loss=loss, optimizer=optimizer)\n",
        "    return model"
      ],
      "execution_count": 24,
      "outputs": []
    },
    {
      "cell_type": "code",
      "metadata": {
        "trusted": true,
        "id": "aADcao3Qpskq"
      },
      "source": [
        "np.random.seed(42)\n",
        "window_len = 5\n",
        "test_size = 0.2\n",
        "zero_base = True\n",
        "lstm_neurons = 100\n",
        "epochs = 50\n",
        "batch_size = 32\n",
        "loss = 'mse'\n",
        "dropout = 0.2\n",
        "optimizer = 'adam'"
      ],
      "execution_count": 23,
      "outputs": []
    },
    {
      "cell_type": "code",
      "metadata": {
        "trusted": true,
        "id": "rAw5VBtwpskt"
      },
      "source": [
        "train, test, X_train, X_test, y_train, y_test = prepare_data(\n",
        "    df, target_col, window_len=window_len, zero_base=zero_base, test_size=test_size)"
      ],
      "execution_count": 25,
      "outputs": []
    },
    {
      "cell_type": "code",
      "metadata": {
        "trusted": true,
        "id": "E5T9OAwQpskw",
        "colab": {
          "base_uri": "https://localhost:8080/"
        },
        "outputId": "2f36b13f-112d-44ee-9e29-1b8159de8ab4"
      },
      "source": [
        "model = build_lstm_model(\n",
        "    X_train, output_size=1, neurons=lstm_neurons, dropout=dropout, loss=loss,\n",
        "    optimizer=optimizer)\n",
        "history = model.fit(\n",
        "    X_train, y_train, validation_data=(X_test, y_test), epochs=epochs, batch_size=batch_size, verbose=1, shuffle=True)"
      ],
      "execution_count": 28,
      "outputs": [
        {
          "output_type": "stream",
          "name": "stdout",
          "text": [
            "Epoch 1/50\n",
            "25/25 [==============================] - 2s 33ms/step - loss: 0.0053 - val_loss: 0.0035\n",
            "Epoch 2/50\n",
            "25/25 [==============================] - 0s 6ms/step - loss: 0.0036 - val_loss: 0.0032\n",
            "Epoch 3/50\n",
            "25/25 [==============================] - 0s 6ms/step - loss: 0.0033 - val_loss: 0.0029\n",
            "Epoch 4/50\n",
            "25/25 [==============================] - 0s 6ms/step - loss: 0.0029 - val_loss: 0.0027\n",
            "Epoch 5/50\n",
            "25/25 [==============================] - 0s 6ms/step - loss: 0.0027 - val_loss: 0.0027\n",
            "Epoch 6/50\n",
            "25/25 [==============================] - 0s 6ms/step - loss: 0.0023 - val_loss: 0.0025\n",
            "Epoch 7/50\n",
            "25/25 [==============================] - 0s 6ms/step - loss: 0.0024 - val_loss: 0.0024\n",
            "Epoch 8/50\n",
            "25/25 [==============================] - 0s 6ms/step - loss: 0.0022 - val_loss: 0.0026\n",
            "Epoch 9/50\n",
            "25/25 [==============================] - 0s 6ms/step - loss: 0.0023 - val_loss: 0.0023\n",
            "Epoch 10/50\n",
            "25/25 [==============================] - 0s 6ms/step - loss: 0.0022 - val_loss: 0.0023\n",
            "Epoch 11/50\n",
            "25/25 [==============================] - 0s 6ms/step - loss: 0.0021 - val_loss: 0.0022\n",
            "Epoch 12/50\n",
            "25/25 [==============================] - 0s 6ms/step - loss: 0.0022 - val_loss: 0.0023\n",
            "Epoch 13/50\n",
            "25/25 [==============================] - 0s 6ms/step - loss: 0.0020 - val_loss: 0.0022\n",
            "Epoch 14/50\n",
            "25/25 [==============================] - 0s 6ms/step - loss: 0.0020 - val_loss: 0.0021\n",
            "Epoch 15/50\n",
            "25/25 [==============================] - 0s 6ms/step - loss: 0.0020 - val_loss: 0.0022\n",
            "Epoch 16/50\n",
            "25/25 [==============================] - 0s 6ms/step - loss: 0.0020 - val_loss: 0.0022\n",
            "Epoch 17/50\n",
            "25/25 [==============================] - 0s 6ms/step - loss: 0.0020 - val_loss: 0.0022\n",
            "Epoch 18/50\n",
            "25/25 [==============================] - 0s 6ms/step - loss: 0.0018 - val_loss: 0.0021\n",
            "Epoch 19/50\n",
            "25/25 [==============================] - 0s 6ms/step - loss: 0.0020 - val_loss: 0.0021\n",
            "Epoch 20/50\n",
            "25/25 [==============================] - 0s 6ms/step - loss: 0.0018 - val_loss: 0.0021\n",
            "Epoch 21/50\n",
            "25/25 [==============================] - 0s 6ms/step - loss: 0.0019 - val_loss: 0.0020\n",
            "Epoch 22/50\n",
            "25/25 [==============================] - 0s 6ms/step - loss: 0.0018 - val_loss: 0.0022\n",
            "Epoch 23/50\n",
            "25/25 [==============================] - 0s 6ms/step - loss: 0.0019 - val_loss: 0.0021\n",
            "Epoch 24/50\n",
            "25/25 [==============================] - 0s 6ms/step - loss: 0.0017 - val_loss: 0.0021\n",
            "Epoch 25/50\n",
            "25/25 [==============================] - 0s 6ms/step - loss: 0.0018 - val_loss: 0.0021\n",
            "Epoch 26/50\n",
            "25/25 [==============================] - 0s 6ms/step - loss: 0.0017 - val_loss: 0.0020\n",
            "Epoch 27/50\n",
            "25/25 [==============================] - 0s 6ms/step - loss: 0.0017 - val_loss: 0.0020\n",
            "Epoch 28/50\n",
            "25/25 [==============================] - 0s 6ms/step - loss: 0.0017 - val_loss: 0.0020\n",
            "Epoch 29/50\n",
            "25/25 [==============================] - 0s 6ms/step - loss: 0.0017 - val_loss: 0.0020\n",
            "Epoch 30/50\n",
            "25/25 [==============================] - 0s 6ms/step - loss: 0.0017 - val_loss: 0.0020\n",
            "Epoch 31/50\n",
            "25/25 [==============================] - 0s 6ms/step - loss: 0.0017 - val_loss: 0.0020\n",
            "Epoch 32/50\n",
            "25/25 [==============================] - 0s 6ms/step - loss: 0.0018 - val_loss: 0.0020\n",
            "Epoch 33/50\n",
            "25/25 [==============================] - 0s 6ms/step - loss: 0.0017 - val_loss: 0.0020\n",
            "Epoch 34/50\n",
            "25/25 [==============================] - 0s 6ms/step - loss: 0.0017 - val_loss: 0.0019\n",
            "Epoch 35/50\n",
            "25/25 [==============================] - 0s 6ms/step - loss: 0.0017 - val_loss: 0.0020\n",
            "Epoch 36/50\n",
            "25/25 [==============================] - 0s 6ms/step - loss: 0.0017 - val_loss: 0.0020\n",
            "Epoch 37/50\n",
            "25/25 [==============================] - 0s 6ms/step - loss: 0.0016 - val_loss: 0.0019\n",
            "Epoch 38/50\n",
            "25/25 [==============================] - 0s 6ms/step - loss: 0.0017 - val_loss: 0.0019\n",
            "Epoch 39/50\n",
            "25/25 [==============================] - 0s 6ms/step - loss: 0.0016 - val_loss: 0.0020\n",
            "Epoch 40/50\n",
            "25/25 [==============================] - 0s 6ms/step - loss: 0.0016 - val_loss: 0.0019\n",
            "Epoch 41/50\n",
            "25/25 [==============================] - 0s 6ms/step - loss: 0.0017 - val_loss: 0.0019\n",
            "Epoch 42/50\n",
            "25/25 [==============================] - 0s 6ms/step - loss: 0.0016 - val_loss: 0.0019\n",
            "Epoch 43/50\n",
            "25/25 [==============================] - 0s 6ms/step - loss: 0.0016 - val_loss: 0.0019\n",
            "Epoch 44/50\n",
            "25/25 [==============================] - 0s 6ms/step - loss: 0.0016 - val_loss: 0.0020\n",
            "Epoch 45/50\n",
            "25/25 [==============================] - 0s 6ms/step - loss: 0.0016 - val_loss: 0.0019\n",
            "Epoch 46/50\n",
            "25/25 [==============================] - 0s 6ms/step - loss: 0.0017 - val_loss: 0.0019\n",
            "Epoch 47/50\n",
            "25/25 [==============================] - 0s 6ms/step - loss: 0.0016 - val_loss: 0.0019\n",
            "Epoch 48/50\n",
            "25/25 [==============================] - 0s 7ms/step - loss: 0.0017 - val_loss: 0.0020\n",
            "Epoch 49/50\n",
            "25/25 [==============================] - 0s 6ms/step - loss: 0.0016 - val_loss: 0.0020\n",
            "Epoch 50/50\n",
            "25/25 [==============================] - 0s 6ms/step - loss: 0.0016 - val_loss: 0.0019\n"
          ]
        }
      ]
    },
    {
      "cell_type": "code",
      "metadata": {
        "id": "qhMsatri0miT",
        "colab": {
          "base_uri": "https://localhost:8080/",
          "height": 295
        },
        "outputId": "027b5e21-fad3-4d3e-b297-68f079257516"
      },
      "source": [
        "plt.plot(history.history['loss'],'r',linewidth=2, label='Train loss')\n",
        "plt.plot(history.history['val_loss'], 'g',linewidth=2, label='Validation loss')\n",
        "plt.title('LSTM')\n",
        "plt.xlabel('Epochs')\n",
        "plt.ylabel('MSE')\n",
        "plt.show()"
      ],
      "execution_count": 29,
      "outputs": [
        {
          "output_type": "display_data",
          "data": {
            "image/png": "[encoded data removed]",
            "text/plain": [
              "<Figure size 432x288 with 1 Axes>"
            ]
          },
          "metadata": {
            "needs_background": "light"
          }
        }
      ]
    },
    {
      "cell_type": "code",
      "metadata": {
        "trusted": true,
        "id": "mS6SPIGNpskz"
      },
      "source": [
        "targets = test[target_col][window_len:]\n",
        "preds = model.predict(X_test).squeeze()\n",
        "mae = mean_absolute_error(preds, y_test)\n"
      ],
      "execution_count": 31,
      "outputs": []
    },
    {
      "cell_type": "code",
      "metadata": {
        "colab": {
          "base_uri": "https://localhost:8080/"
        },
        "id": "55Pv7t-7NYu4",
        "outputId": "6df45054-004a-4d5e-c372-187df8766580"
      },
      "source": [
        "print(\"mean absolute error:\",mae)"
      ],
      "execution_count": 32,
      "outputs": [
        {
          "output_type": "stream",
          "name": "stdout",
          "text": [
            "mean absolute error: 0.03317548872255825\n"
          ]
        }
      ]
    },
    {
      "cell_type": "code",
      "metadata": {
        "id": "sbhTW5T6zVAU"
      },
      "source": [
        "from sklearn.metrics import mean_squared_error\n",
        "MSE=mean_squared_error(preds, y_test)\n",
        "\n"
      ],
      "execution_count": 34,
      "outputs": []
    },
    {
      "cell_type": "code",
      "metadata": {
        "colab": {
          "base_uri": "https://localhost:8080/"
        },
        "id": "Ce16hARZNijc",
        "outputId": "fd1a92d8-ec22-4318-80ba-7757be258b72"
      },
      "source": [
        "print(\"mean squared error:\",MSE)"
      ],
      "execution_count": 35,
      "outputs": [
        {
          "output_type": "stream",
          "name": "stdout",
          "text": [
            "mean squared error: 0.0018773864885904224\n"
          ]
        }
      ]
    },
    {
      "cell_type": "code",
      "metadata": {
        "trusted": true,
        "id": "4jU0wERepsk2",
        "colab": {
          "base_uri": "https://localhost:8080/",
          "height": 428
        },
        "outputId": "cd317726-bb94-4ce2-e1c1-140502705bf4"
      },
      "source": [
        "preds = test[target_col].values[:-window_len] * (preds + 1)\n",
        "preds = pd.Series(index=targets.index, data=preds)\n",
        "line_plot(targets, preds, 'actual', 'prediction', lw=3)"
      ],
      "execution_count": 37,
      "outputs": [
        {
          "output_type": "display_data",
          "data": {
            "image/png": "[encoded data removed]",
            "text/plain": [
              "<Figure size 936x504 with 1 Axes>"
            ]
          },
          "metadata": {
            "needs_background": "light"
          }
        }
      ]
    },
    {
      "cell_type": "code",
      "metadata": {
        "id": "ngCsa-1ONpWU"
      },
      "source": [
        ""
      ],
      "execution_count": null,
      "outputs": []
    }
  ]
}