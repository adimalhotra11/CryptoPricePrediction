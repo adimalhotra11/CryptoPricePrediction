{
  "nbformat": 4,
  "nbformat_minor": 0,
  "metadata": {
    "kernelspec": {
      "language": "python",
      "display_name": "Python 3",
      "name": "python3"
    },
    "language_info": {
      "pygments_lexer": "ipython3",
      "nbconvert_exporter": "python",
      "version": "3.6.4",
      "file_extension": ".py",
      "codemirror_mode": {
        "name": "ipython",
        "version": 3
      },
      "name": "python",
      "mimetype": "text/x-python"
    },
    "colab": {
      "name": "crypto-ETH.ipynb",
      "provenance": [],
      "collapsed_sections": [],
      "include_colab_link": true
    },
    "accelerator": "GPU"
  },
  "cells": [
    {
      "cell_type": "markdown",
      "metadata": {
        "id": "view-in-github",
        "colab_type": "text"
      },
      "source": [
        "<a href=\"https://colab.research.google.com/github/adimalhotra11/CryptoPricePrediction/blob/master/crypto_ETH.ipynb\" target=\"_parent\"><img src=\"https://colab.research.google.com/assets/colab-badge.svg\" alt=\"Open In Colab\"/></a>"
      ]
    },
    {
      "cell_type": "code",
      "metadata": {
        "id": "NeWVBhf1VxlH"
      },
      "source": [
        "%tensorflow_version 2.x\n",
        "import json\n",
        "import requests\n",
        "from keras.models import Sequential\n",
        "from keras.layers import Activation, Dense, Dropout, LSTM\n",
        "import matplotlib.pyplot as plt\n",
        "import numpy as np\n",
        "import pandas as pd\n",
        "import seaborn as sns\n",
        "from sklearn.metrics import mean_absolute_error\n",
        "%matplotlib inline"
      ],
      "execution_count": 38,
      "outputs": []
    },
    {
      "cell_type": "code",
      "metadata": {
        "_uuid": "d629ff2d2480ee46fbb7e2d37f6b5fab8052498a",
        "_cell_guid": "79c7e3d0-c299-4dcb-8224-4455121ee9b0",
        "trusted": true,
        "id": "6W__OM92pskF"
      },
      "source": [
        "endpoint = 'https://min-api.cryptocompare.com/data/histoday'\n",
        "res = requests.get(endpoint + '?fsym=ETH&tsym=USD&limit=1000')\n"
      ],
      "execution_count": 39,
      "outputs": []
    },
    {
      "cell_type": "code",
      "metadata": {
        "id": "SEsvccRhK0LF"
      },
      "source": [
        "df = pd.DataFrame(json.loads(res.content)['Data'])\n",
        "df = df.set_index('time')\n",
        "df.index = pd.to_datetime(df.index, unit='s')\n",
        "target_col = 'close'"
      ],
      "execution_count": 40,
      "outputs": []
    },
    {
      "cell_type": "code",
      "metadata": {
        "colab": {
          "base_uri": "https://localhost:8080/",
          "height": 235
        },
        "id": "aP_vCJDXItjN",
        "outputId": "fc1c9de3-94e9-4595-b28a-f871c61170cf"
      },
      "source": [
        "df.head(5)"
      ],
      "execution_count": 41,
      "outputs": [
        {
          "output_type": "execute_result",
          "data": {
            "text/html": [
              "<div>\n",
              "<style scoped>\n",
              "    .dataframe tbody tr th:only-of-type {\n",
              "        vertical-align: middle;\n",
              "    }\n",
              "\n",
              "    .dataframe tbody tr th {\n",
              "        vertical-align: top;\n",
              "    }\n",
              "\n",
              "    .dataframe thead th {\n",
              "        text-align: right;\n",
              "    }\n",
              "</style>\n",
              "<table border=\"1\" class=\"dataframe\">\n",
              "  <thead>\n",
              "    <tr style=\"text-align: right;\">\n",
              "      <th></th>\n",
              "      <th>high</th>\n",
              "      <th>low</th>\n",
              "      <th>open</th>\n",
              "      <th>volumefrom</th>\n",
              "      <th>volumeto</th>\n",
              "      <th>close</th>\n",
              "      <th>conversionType</th>\n",
              "      <th>conversionSymbol</th>\n",
              "    </tr>\n",
              "    <tr>\n",
              "      <th>time</th>\n",
              "      <th></th>\n",
              "      <th></th>\n",
              "      <th></th>\n",
              "      <th></th>\n",
              "      <th></th>\n",
              "      <th></th>\n",
              "      <th></th>\n",
              "      <th></th>\n",
              "    </tr>\n",
              "  </thead>\n",
              "  <tbody>\n",
              "    <tr>\n",
              "      <th>2019-01-31</th>\n",
              "      <td>108.79</td>\n",
              "      <td>105.77</td>\n",
              "      <td>108.52</td>\n",
              "      <td>2030539.26</td>\n",
              "      <td>2.161672e+08</td>\n",
              "      <td>106.46</td>\n",
              "      <td>multiply</td>\n",
              "      <td>BTC</td>\n",
              "    </tr>\n",
              "    <tr>\n",
              "      <th>2019-02-01</th>\n",
              "      <td>107.62</td>\n",
              "      <td>105.55</td>\n",
              "      <td>106.46</td>\n",
              "      <td>1698659.24</td>\n",
              "      <td>1.812844e+08</td>\n",
              "      <td>106.72</td>\n",
              "      <td>multiply</td>\n",
              "      <td>BTC</td>\n",
              "    </tr>\n",
              "    <tr>\n",
              "      <th>2019-02-02</th>\n",
              "      <td>110.80</td>\n",
              "      <td>107.93</td>\n",
              "      <td>106.72</td>\n",
              "      <td>1615356.38</td>\n",
              "      <td>1.785914e+08</td>\n",
              "      <td>110.56</td>\n",
              "      <td>multiply</td>\n",
              "      <td>BTC</td>\n",
              "    </tr>\n",
              "    <tr>\n",
              "      <th>2019-02-03</th>\n",
              "      <td>109.11</td>\n",
              "      <td>106.56</td>\n",
              "      <td>110.56</td>\n",
              "      <td>1882567.19</td>\n",
              "      <td>2.015132e+08</td>\n",
              "      <td>107.04</td>\n",
              "      <td>multiply</td>\n",
              "      <td>BTC</td>\n",
              "    </tr>\n",
              "    <tr>\n",
              "      <th>2019-02-04</th>\n",
              "      <td>107.54</td>\n",
              "      <td>105.92</td>\n",
              "      <td>107.04</td>\n",
              "      <td>2060237.91</td>\n",
              "      <td>2.196391e+08</td>\n",
              "      <td>106.61</td>\n",
              "      <td>multiply</td>\n",
              "      <td>BTC</td>\n",
              "    </tr>\n",
              "  </tbody>\n",
              "</table>\n",
              "</div>"
            ],
            "text/plain": [
              "              high     low    open  ...   close  conversionType  conversionSymbol\n",
              "time                                ...                                          \n",
              "2019-01-31  108.79  105.77  108.52  ...  106.46        multiply               BTC\n",
              "2019-02-01  107.62  105.55  106.46  ...  106.72        multiply               BTC\n",
              "2019-02-02  110.80  107.93  106.72  ...  110.56        multiply               BTC\n",
              "2019-02-03  109.11  106.56  110.56  ...  107.04        multiply               BTC\n",
              "2019-02-04  107.54  105.92  107.04  ...  106.61        multiply               BTC\n",
              "\n",
              "[5 rows x 8 columns]"
            ]
          },
          "metadata": {},
          "execution_count": 41
        }
      ]
    },
    {
      "cell_type": "code",
      "metadata": {
        "colab": {
          "base_uri": "https://localhost:8080/",
          "height": 390
        },
        "id": "FY75A876IwMh",
        "outputId": "653c09e3-6f6a-4d9e-8a07-94ed37fe5182"
      },
      "source": [
        "df.tail(10)"
      ],
      "execution_count": 42,
      "outputs": [
        {
          "output_type": "execute_result",
          "data": {
            "text/html": [
              "<div>\n",
              "<style scoped>\n",
              "    .dataframe tbody tr th:only-of-type {\n",
              "        vertical-align: middle;\n",
              "    }\n",
              "\n",
              "    .dataframe tbody tr th {\n",
              "        vertical-align: top;\n",
              "    }\n",
              "\n",
              "    .dataframe thead th {\n",
              "        text-align: right;\n",
              "    }\n",
              "</style>\n",
              "<table border=\"1\" class=\"dataframe\">\n",
              "  <thead>\n",
              "    <tr style=\"text-align: right;\">\n",
              "      <th></th>\n",
              "      <th>high</th>\n",
              "      <th>low</th>\n",
              "      <th>open</th>\n",
              "      <th>volumefrom</th>\n",
              "      <th>volumeto</th>\n",
              "      <th>close</th>\n",
              "      <th>conversionType</th>\n",
              "      <th>conversionSymbol</th>\n",
              "    </tr>\n",
              "    <tr>\n",
              "      <th>time</th>\n",
              "      <th></th>\n",
              "      <th></th>\n",
              "      <th></th>\n",
              "      <th></th>\n",
              "      <th></th>\n",
              "      <th></th>\n",
              "      <th></th>\n",
              "      <th></th>\n",
              "    </tr>\n",
              "  </thead>\n",
              "  <tbody>\n",
              "    <tr>\n",
              "      <th>2021-10-18</th>\n",
              "      <td>3894.27</td>\n",
              "      <td>3677.52</td>\n",
              "      <td>3846.66</td>\n",
              "      <td>361513.63</td>\n",
              "      <td>1.365253e+09</td>\n",
              "      <td>3746.14</td>\n",
              "      <td>direct</td>\n",
              "      <td></td>\n",
              "    </tr>\n",
              "    <tr>\n",
              "      <th>2021-10-19</th>\n",
              "      <td>3888.54</td>\n",
              "      <td>3733.60</td>\n",
              "      <td>3746.14</td>\n",
              "      <td>291414.08</td>\n",
              "      <td>1.110236e+09</td>\n",
              "      <td>3877.45</td>\n",
              "      <td>direct</td>\n",
              "      <td></td>\n",
              "    </tr>\n",
              "    <tr>\n",
              "      <th>2021-10-20</th>\n",
              "      <td>4168.74</td>\n",
              "      <td>3829.95</td>\n",
              "      <td>3877.45</td>\n",
              "      <td>427521.45</td>\n",
              "      <td>1.719887e+09</td>\n",
              "      <td>4162.49</td>\n",
              "      <td>direct</td>\n",
              "      <td></td>\n",
              "    </tr>\n",
              "    <tr>\n",
              "      <th>2021-10-21</th>\n",
              "      <td>4373.21</td>\n",
              "      <td>4015.24</td>\n",
              "      <td>4162.49</td>\n",
              "      <td>585122.78</td>\n",
              "      <td>2.439960e+09</td>\n",
              "      <td>4062.76</td>\n",
              "      <td>direct</td>\n",
              "      <td></td>\n",
              "    </tr>\n",
              "    <tr>\n",
              "      <th>2021-10-22</th>\n",
              "      <td>4168.19</td>\n",
              "      <td>3892.38</td>\n",
              "      <td>4062.76</td>\n",
              "      <td>365507.01</td>\n",
              "      <td>1.474775e+09</td>\n",
              "      <td>3971.95</td>\n",
              "      <td>direct</td>\n",
              "      <td></td>\n",
              "    </tr>\n",
              "    <tr>\n",
              "      <th>2021-10-23</th>\n",
              "      <td>4171.67</td>\n",
              "      <td>3937.93</td>\n",
              "      <td>3971.95</td>\n",
              "      <td>206808.72</td>\n",
              "      <td>8.397662e+08</td>\n",
              "      <td>4168.96</td>\n",
              "      <td>direct</td>\n",
              "      <td></td>\n",
              "    </tr>\n",
              "    <tr>\n",
              "      <th>2021-10-24</th>\n",
              "      <td>4185.96</td>\n",
              "      <td>3963.11</td>\n",
              "      <td>4168.96</td>\n",
              "      <td>222789.38</td>\n",
              "      <td>9.041141e+08</td>\n",
              "      <td>4082.08</td>\n",
              "      <td>direct</td>\n",
              "      <td></td>\n",
              "    </tr>\n",
              "    <tr>\n",
              "      <th>2021-10-25</th>\n",
              "      <td>4235.57</td>\n",
              "      <td>4069.68</td>\n",
              "      <td>4082.08</td>\n",
              "      <td>273786.47</td>\n",
              "      <td>1.140018e+09</td>\n",
              "      <td>4220.26</td>\n",
              "      <td>direct</td>\n",
              "      <td></td>\n",
              "    </tr>\n",
              "    <tr>\n",
              "      <th>2021-10-26</th>\n",
              "      <td>4295.04</td>\n",
              "      <td>4094.55</td>\n",
              "      <td>4220.26</td>\n",
              "      <td>307683.57</td>\n",
              "      <td>1.291728e+09</td>\n",
              "      <td>4129.95</td>\n",
              "      <td>direct</td>\n",
              "      <td></td>\n",
              "    </tr>\n",
              "    <tr>\n",
              "      <th>2021-10-27</th>\n",
              "      <td>4308.89</td>\n",
              "      <td>3944.20</td>\n",
              "      <td>4129.95</td>\n",
              "      <td>502986.80</td>\n",
              "      <td>2.066693e+09</td>\n",
              "      <td>3971.19</td>\n",
              "      <td>direct</td>\n",
              "      <td></td>\n",
              "    </tr>\n",
              "  </tbody>\n",
              "</table>\n",
              "</div>"
            ],
            "text/plain": [
              "               high      low     open  ...    close  conversionType  conversionSymbol\n",
              "time                                   ...                                           \n",
              "2021-10-18  3894.27  3677.52  3846.66  ...  3746.14          direct                  \n",
              "2021-10-19  3888.54  3733.60  3746.14  ...  3877.45          direct                  \n",
              "2021-10-20  4168.74  3829.95  3877.45  ...  4162.49          direct                  \n",
              "2021-10-21  4373.21  4015.24  4162.49  ...  4062.76          direct                  \n",
              "2021-10-22  4168.19  3892.38  4062.76  ...  3971.95          direct                  \n",
              "2021-10-23  4171.67  3937.93  3971.95  ...  4168.96          direct                  \n",
              "2021-10-24  4185.96  3963.11  4168.96  ...  4082.08          direct                  \n",
              "2021-10-25  4235.57  4069.68  4082.08  ...  4220.26          direct                  \n",
              "2021-10-26  4295.04  4094.55  4220.26  ...  4129.95          direct                  \n",
              "2021-10-27  4308.89  3944.20  4129.95  ...  3971.19          direct                  \n",
              "\n",
              "[10 rows x 8 columns]"
            ]
          },
          "metadata": {},
          "execution_count": 42
        }
      ]
    },
    {
      "cell_type": "markdown",
      "metadata": {
        "id": "tucXtT35LehG"
      },
      "source": [
        "### I have to get rid of conversionType and conversionSymbol as they are not required."
      ]
    },
    {
      "cell_type": "code",
      "metadata": {
        "id": "HO-Fl3pqLeUA"
      },
      "source": [
        "df = df.drop([\"conversionType\", \"conversionSymbol\"], axis = 'columns')\n"
      ],
      "execution_count": 43,
      "outputs": []
    },
    {
      "cell_type": "code",
      "metadata": {
        "colab": {
          "base_uri": "https://localhost:8080/",
          "height": 700
        },
        "id": "1tK7vM95Lx28",
        "outputId": "749d9cb3-c6f9-4383-83dd-2d56eef9a812"
      },
      "source": [
        "df.head(20)"
      ],
      "execution_count": 44,
      "outputs": [
        {
          "output_type": "execute_result",
          "data": {
            "text/html": [
              "<div>\n",
              "<style scoped>\n",
              "    .dataframe tbody tr th:only-of-type {\n",
              "        vertical-align: middle;\n",
              "    }\n",
              "\n",
              "    .dataframe tbody tr th {\n",
              "        vertical-align: top;\n",
              "    }\n",
              "\n",
              "    .dataframe thead th {\n",
              "        text-align: right;\n",
              "    }\n",
              "</style>\n",
              "<table border=\"1\" class=\"dataframe\">\n",
              "  <thead>\n",
              "    <tr style=\"text-align: right;\">\n",
              "      <th></th>\n",
              "      <th>high</th>\n",
              "      <th>low</th>\n",
              "      <th>open</th>\n",
              "      <th>volumefrom</th>\n",
              "      <th>volumeto</th>\n",
              "      <th>close</th>\n",
              "    </tr>\n",
              "    <tr>\n",
              "      <th>time</th>\n",
              "      <th></th>\n",
              "      <th></th>\n",
              "      <th></th>\n",
              "      <th></th>\n",
              "      <th></th>\n",
              "      <th></th>\n",
              "    </tr>\n",
              "  </thead>\n",
              "  <tbody>\n",
              "    <tr>\n",
              "      <th>2019-01-31</th>\n",
              "      <td>108.79</td>\n",
              "      <td>105.77</td>\n",
              "      <td>108.52</td>\n",
              "      <td>2030539.26</td>\n",
              "      <td>2.161672e+08</td>\n",
              "      <td>106.46</td>\n",
              "    </tr>\n",
              "    <tr>\n",
              "      <th>2019-02-01</th>\n",
              "      <td>107.62</td>\n",
              "      <td>105.55</td>\n",
              "      <td>106.46</td>\n",
              "      <td>1698659.24</td>\n",
              "      <td>1.812844e+08</td>\n",
              "      <td>106.72</td>\n",
              "    </tr>\n",
              "    <tr>\n",
              "      <th>2019-02-02</th>\n",
              "      <td>110.80</td>\n",
              "      <td>107.93</td>\n",
              "      <td>106.72</td>\n",
              "      <td>1615356.38</td>\n",
              "      <td>1.785914e+08</td>\n",
              "      <td>110.56</td>\n",
              "    </tr>\n",
              "    <tr>\n",
              "      <th>2019-02-03</th>\n",
              "      <td>109.11</td>\n",
              "      <td>106.56</td>\n",
              "      <td>110.56</td>\n",
              "      <td>1882567.19</td>\n",
              "      <td>2.015132e+08</td>\n",
              "      <td>107.04</td>\n",
              "    </tr>\n",
              "    <tr>\n",
              "      <th>2019-02-04</th>\n",
              "      <td>107.54</td>\n",
              "      <td>105.92</td>\n",
              "      <td>107.04</td>\n",
              "      <td>2060237.91</td>\n",
              "      <td>2.196391e+08</td>\n",
              "      <td>106.61</td>\n",
              "    </tr>\n",
              "    <tr>\n",
              "      <th>2019-02-05</th>\n",
              "      <td>107.33</td>\n",
              "      <td>106.29</td>\n",
              "      <td>106.61</td>\n",
              "      <td>1814712.94</td>\n",
              "      <td>1.933888e+08</td>\n",
              "      <td>106.57</td>\n",
              "    </tr>\n",
              "    <tr>\n",
              "      <th>2019-02-06</th>\n",
              "      <td>105.11</td>\n",
              "      <td>101.78</td>\n",
              "      <td>106.57</td>\n",
              "      <td>2082286.07</td>\n",
              "      <td>2.170930e+08</td>\n",
              "      <td>104.26</td>\n",
              "    </tr>\n",
              "    <tr>\n",
              "      <th>2019-02-07</th>\n",
              "      <td>104.57</td>\n",
              "      <td>103.42</td>\n",
              "      <td>104.26</td>\n",
              "      <td>1843678.58</td>\n",
              "      <td>1.911713e+08</td>\n",
              "      <td>103.69</td>\n",
              "    </tr>\n",
              "    <tr>\n",
              "      <th>2019-02-08</th>\n",
              "      <td>120.60</td>\n",
              "      <td>112.03</td>\n",
              "      <td>103.69</td>\n",
              "      <td>2722369.81</td>\n",
              "      <td>3.246257e+08</td>\n",
              "      <td>119.24</td>\n",
              "    </tr>\n",
              "    <tr>\n",
              "      <th>2019-02-09</th>\n",
              "      <td>120.34</td>\n",
              "      <td>118.15</td>\n",
              "      <td>119.24</td>\n",
              "      <td>1982836.55</td>\n",
              "      <td>2.356493e+08</td>\n",
              "      <td>118.84</td>\n",
              "    </tr>\n",
              "    <tr>\n",
              "      <th>2019-02-10</th>\n",
              "      <td>125.85</td>\n",
              "      <td>118.11</td>\n",
              "      <td>118.84</td>\n",
              "      <td>2242194.49</td>\n",
              "      <td>2.807700e+08</td>\n",
              "      <td>125.22</td>\n",
              "    </tr>\n",
              "    <tr>\n",
              "      <th>2019-02-11</th>\n",
              "      <td>122.79</td>\n",
              "      <td>119.14</td>\n",
              "      <td>125.22</td>\n",
              "      <td>2968195.53</td>\n",
              "      <td>3.569481e+08</td>\n",
              "      <td>120.26</td>\n",
              "    </tr>\n",
              "    <tr>\n",
              "      <th>2019-02-12</th>\n",
              "      <td>122.34</td>\n",
              "      <td>119.41</td>\n",
              "      <td>120.26</td>\n",
              "      <td>2566676.02</td>\n",
              "      <td>3.128022e+08</td>\n",
              "      <td>121.87</td>\n",
              "    </tr>\n",
              "    <tr>\n",
              "      <th>2019-02-13</th>\n",
              "      <td>124.04</td>\n",
              "      <td>121.12</td>\n",
              "      <td>121.87</td>\n",
              "      <td>2717081.89</td>\n",
              "      <td>3.307617e+08</td>\n",
              "      <td>121.73</td>\n",
              "    </tr>\n",
              "    <tr>\n",
              "      <th>2019-02-14</th>\n",
              "      <td>123.27</td>\n",
              "      <td>120.40</td>\n",
              "      <td>121.73</td>\n",
              "      <td>2080820.55</td>\n",
              "      <td>2.506087e+08</td>\n",
              "      <td>120.44</td>\n",
              "    </tr>\n",
              "    <tr>\n",
              "      <th>2019-02-15</th>\n",
              "      <td>122.29</td>\n",
              "      <td>120.09</td>\n",
              "      <td>120.44</td>\n",
              "      <td>2443434.20</td>\n",
              "      <td>2.949355e+08</td>\n",
              "      <td>120.71</td>\n",
              "    </tr>\n",
              "    <tr>\n",
              "      <th>2019-02-16</th>\n",
              "      <td>123.42</td>\n",
              "      <td>121.00</td>\n",
              "      <td>120.71</td>\n",
              "      <td>2232697.56</td>\n",
              "      <td>2.737833e+08</td>\n",
              "      <td>122.62</td>\n",
              "    </tr>\n",
              "    <tr>\n",
              "      <th>2019-02-17</th>\n",
              "      <td>135.38</td>\n",
              "      <td>124.30</td>\n",
              "      <td>122.62</td>\n",
              "      <td>3049212.86</td>\n",
              "      <td>4.085597e+08</td>\n",
              "      <td>133.99</td>\n",
              "    </tr>\n",
              "    <tr>\n",
              "      <th>2019-02-18</th>\n",
              "      <td>149.54</td>\n",
              "      <td>141.99</td>\n",
              "      <td>133.99</td>\n",
              "      <td>3533318.13</td>\n",
              "      <td>5.168926e+08</td>\n",
              "      <td>146.29</td>\n",
              "    </tr>\n",
              "    <tr>\n",
              "      <th>2019-02-19</th>\n",
              "      <td>148.89</td>\n",
              "      <td>143.90</td>\n",
              "      <td>146.29</td>\n",
              "      <td>3423275.28</td>\n",
              "      <td>4.931531e+08</td>\n",
              "      <td>144.06</td>\n",
              "    </tr>\n",
              "  </tbody>\n",
              "</table>\n",
              "</div>"
            ],
            "text/plain": [
              "              high     low    open  volumefrom      volumeto   close\n",
              "time                                                                \n",
              "2019-01-31  108.79  105.77  108.52  2030539.26  2.161672e+08  106.46\n",
              "2019-02-01  107.62  105.55  106.46  1698659.24  1.812844e+08  106.72\n",
              "2019-02-02  110.80  107.93  106.72  1615356.38  1.785914e+08  110.56\n",
              "2019-02-03  109.11  106.56  110.56  1882567.19  2.015132e+08  107.04\n",
              "2019-02-04  107.54  105.92  107.04  2060237.91  2.196391e+08  106.61\n",
              "2019-02-05  107.33  106.29  106.61  1814712.94  1.933888e+08  106.57\n",
              "2019-02-06  105.11  101.78  106.57  2082286.07  2.170930e+08  104.26\n",
              "2019-02-07  104.57  103.42  104.26  1843678.58  1.911713e+08  103.69\n",
              "2019-02-08  120.60  112.03  103.69  2722369.81  3.246257e+08  119.24\n",
              "2019-02-09  120.34  118.15  119.24  1982836.55  2.356493e+08  118.84\n",
              "2019-02-10  125.85  118.11  118.84  2242194.49  2.807700e+08  125.22\n",
              "2019-02-11  122.79  119.14  125.22  2968195.53  3.569481e+08  120.26\n",
              "2019-02-12  122.34  119.41  120.26  2566676.02  3.128022e+08  121.87\n",
              "2019-02-13  124.04  121.12  121.87  2717081.89  3.307617e+08  121.73\n",
              "2019-02-14  123.27  120.40  121.73  2080820.55  2.506087e+08  120.44\n",
              "2019-02-15  122.29  120.09  120.44  2443434.20  2.949355e+08  120.71\n",
              "2019-02-16  123.42  121.00  120.71  2232697.56  2.737833e+08  122.62\n",
              "2019-02-17  135.38  124.30  122.62  3049212.86  4.085597e+08  133.99\n",
              "2019-02-18  149.54  141.99  133.99  3533318.13  5.168926e+08  146.29\n",
              "2019-02-19  148.89  143.90  146.29  3423275.28  4.931531e+08  144.06"
            ]
          },
          "metadata": {},
          "execution_count": 44
        }
      ]
    },
    {
      "cell_type": "code",
      "metadata": {
        "colab": {
          "base_uri": "https://localhost:8080/",
          "height": 297
        },
        "id": "q5Bu2UNzJDHf",
        "outputId": "d75f6550-68c4-42d8-aa2a-597d5687fd3e"
      },
      "source": [
        "df.describe()"
      ],
      "execution_count": 45,
      "outputs": [
        {
          "output_type": "execute_result",
          "data": {
            "text/html": [
              "<div>\n",
              "<style scoped>\n",
              "    .dataframe tbody tr th:only-of-type {\n",
              "        vertical-align: middle;\n",
              "    }\n",
              "\n",
              "    .dataframe tbody tr th {\n",
              "        vertical-align: top;\n",
              "    }\n",
              "\n",
              "    .dataframe thead th {\n",
              "        text-align: right;\n",
              "    }\n",
              "</style>\n",
              "<table border=\"1\" class=\"dataframe\">\n",
              "  <thead>\n",
              "    <tr style=\"text-align: right;\">\n",
              "      <th></th>\n",
              "      <th>high</th>\n",
              "      <th>low</th>\n",
              "      <th>open</th>\n",
              "      <th>volumefrom</th>\n",
              "      <th>volumeto</th>\n",
              "      <th>close</th>\n",
              "    </tr>\n",
              "  </thead>\n",
              "  <tbody>\n",
              "    <tr>\n",
              "      <th>count</th>\n",
              "      <td>1001.000000</td>\n",
              "      <td>1001.000000</td>\n",
              "      <td>1001.000000</td>\n",
              "      <td>1.001000e+03</td>\n",
              "      <td>1.001000e+03</td>\n",
              "      <td>1001.000000</td>\n",
              "    </tr>\n",
              "    <tr>\n",
              "      <th>mean</th>\n",
              "      <td>943.288671</td>\n",
              "      <td>871.308731</td>\n",
              "      <td>908.274535</td>\n",
              "      <td>1.673760e+06</td>\n",
              "      <td>7.648759e+08</td>\n",
              "      <td>912.133167</td>\n",
              "    </tr>\n",
              "    <tr>\n",
              "      <th>std</th>\n",
              "      <td>1157.504744</td>\n",
              "      <td>1062.719551</td>\n",
              "      <td>1111.972293</td>\n",
              "      <td>1.374391e+06</td>\n",
              "      <td>8.072272e+08</td>\n",
              "      <td>1115.888957</td>\n",
              "    </tr>\n",
              "    <tr>\n",
              "      <th>min</th>\n",
              "      <td>104.570000</td>\n",
              "      <td>101.780000</td>\n",
              "      <td>103.690000</td>\n",
              "      <td>1.354761e+05</td>\n",
              "      <td>3.759109e+07</td>\n",
              "      <td>103.690000</td>\n",
              "    </tr>\n",
              "    <tr>\n",
              "      <th>25%</th>\n",
              "      <td>183.340000</td>\n",
              "      <td>177.500000</td>\n",
              "      <td>180.400000</td>\n",
              "      <td>5.479167e+05</td>\n",
              "      <td>3.021591e+08</td>\n",
              "      <td>180.720000</td>\n",
              "    </tr>\n",
              "    <tr>\n",
              "      <th>50%</th>\n",
              "      <td>273.230000</td>\n",
              "      <td>261.900000</td>\n",
              "      <td>265.940000</td>\n",
              "      <td>1.290504e+06</td>\n",
              "      <td>5.059884e+08</td>\n",
              "      <td>267.500000</td>\n",
              "    </tr>\n",
              "    <tr>\n",
              "      <th>75%</th>\n",
              "      <td>1721.690000</td>\n",
              "      <td>1549.080000</td>\n",
              "      <td>1651.480000</td>\n",
              "      <td>2.457223e+06</td>\n",
              "      <td>9.440188e+08</td>\n",
              "      <td>1667.220000</td>\n",
              "    </tr>\n",
              "    <tr>\n",
              "      <th>max</th>\n",
              "      <td>4379.790000</td>\n",
              "      <td>4094.550000</td>\n",
              "      <td>4220.260000</td>\n",
              "      <td>1.098033e+07</td>\n",
              "      <td>9.657969e+09</td>\n",
              "      <td>4220.260000</td>\n",
              "    </tr>\n",
              "  </tbody>\n",
              "</table>\n",
              "</div>"
            ],
            "text/plain": [
              "              high          low  ...      volumeto        close\n",
              "count  1001.000000  1001.000000  ...  1.001000e+03  1001.000000\n",
              "mean    943.288671   871.308731  ...  7.648759e+08   912.133167\n",
              "std    1157.504744  1062.719551  ...  8.072272e+08  1115.888957\n",
              "min     104.570000   101.780000  ...  3.759109e+07   103.690000\n",
              "25%     183.340000   177.500000  ...  3.021591e+08   180.720000\n",
              "50%     273.230000   261.900000  ...  5.059884e+08   267.500000\n",
              "75%    1721.690000  1549.080000  ...  9.440188e+08  1667.220000\n",
              "max    4379.790000  4094.550000  ...  9.657969e+09  4220.260000\n",
              "\n",
              "[8 rows x 6 columns]"
            ]
          },
          "metadata": {},
          "execution_count": 45
        }
      ]
    },
    {
      "cell_type": "code",
      "metadata": {
        "colab": {
          "base_uri": "https://localhost:8080/"
        },
        "id": "BadcfirtL6Lr",
        "outputId": "f82a57f0-cfec-412c-b4c5-8cee1aacecbd"
      },
      "source": [
        "print(\"Our data starts from:\",df.index[0],\"and ends at(updated today): \", df.index[-1])"
      ],
      "execution_count": 46,
      "outputs": [
        {
          "output_type": "stream",
          "name": "stdout",
          "text": [
            "Our data starts from: 2019-01-31 00:00:00 and ends at(updated today):  2021-10-27 00:00:00\n"
          ]
        }
      ]
    },
    {
      "cell_type": "code",
      "metadata": {
        "id": "HgfCkw-KJDFJ"
      },
      "source": [
        "def box_plot(x1,label1=None, title='', lw=2):\n",
        "    fig, ax = plt.subplots(1, figsize=(13, 7))\n",
        "    ax.plot(line1, label=label1, linewidth=lw)\n",
        "    ax.plot(line2, label=label2, linewidth=lw)\n",
        "    ax.set_ylabel('price [CAD]', fontsize=14)\n",
        "    ax.set_title(title, fontsize=16)\n",
        "    ax.legend(loc='best', fontsize=16);"
      ],
      "execution_count": 47,
      "outputs": []
    },
    {
      "cell_type": "code",
      "metadata": {
        "id": "MvlB5i0OJDDD"
      },
      "source": [
        ""
      ],
      "execution_count": 47,
      "outputs": []
    },
    {
      "cell_type": "code",
      "metadata": {
        "trusted": true,
        "id": "0Ykh8CHfpskJ"
      },
      "source": [
        "def train_test_split(df, test_size=0.2):\n",
        "    split_row = len(df) - int(test_size * len(df))\n",
        "    train_data = df.iloc[:split_row]\n",
        "    test_data = df.iloc[split_row:]\n",
        "    return train_data, test_data"
      ],
      "execution_count": 48,
      "outputs": []
    },
    {
      "cell_type": "code",
      "metadata": {
        "trusted": true,
        "id": "PWKGJlxIpskM"
      },
      "source": [
        "train, test = train_test_split(df, test_size=0.2)"
      ],
      "execution_count": 49,
      "outputs": []
    },
    {
      "cell_type": "code",
      "metadata": {
        "trusted": true,
        "id": "jqfrJbQhpskP"
      },
      "source": [
        "def line_plot(line1, line2, label1=None, label2=None, title='', lw=2):\n",
        "    fig, ax = plt.subplots(1, figsize=(13, 7))\n",
        "    ax.plot(line1, label=label1, linewidth=lw)\n",
        "    ax.plot(line2, label=label2, linewidth=lw)\n",
        "    ax.set_ylabel('price [CAD]', fontsize=14)\n",
        "    ax.set_title(title, fontsize=16)\n",
        "    ax.legend(loc='best', fontsize=16);"
      ],
      "execution_count": 50,
      "outputs": []
    },
    {
      "cell_type": "code",
      "metadata": {
        "trusted": true,
        "id": "9F_YTCCxpskS",
        "colab": {
          "base_uri": "https://localhost:8080/",
          "height": 428
        },
        "outputId": "1531065a-8d32-4955-f800-4c7bd58ceae6"
      },
      "source": [
        "line_plot(train[target_col], test[target_col], 'training', 'test', title='')"
      ],
      "execution_count": 51,
      "outputs": [
        {
          "output_type": "display_data",
          "data": {
            "image/png": "[encoded data removed]",
            "text/plain": [
              "<Figure size 936x504 with 1 Axes>"
            ]
          },
          "metadata": {
            "needs_background": "light"
          }
        }
      ]
    },
    {
      "cell_type": "code",
      "metadata": {
        "trusted": true,
        "id": "iy-je3_bpskb"
      },
      "source": [
        "def normalise_zero_base(df):\n",
        "    return df / df.iloc[0] - 1\n",
        "\n",
        "def normalise_min_max(df):\n",
        "    return (df - df.min()) / (data.max() - df.min())"
      ],
      "execution_count": 52,
      "outputs": []
    },
    {
      "cell_type": "code",
      "metadata": {
        "trusted": true,
        "id": "zteL5amIpskh"
      },
      "source": [
        "def extract_window_data(df, window_len=5, zero_base=True):\n",
        "    window_data = []\n",
        "    for idx in range(len(df) - window_len):\n",
        "        tmp = df[idx: (idx + window_len)].copy()\n",
        "        if zero_base:\n",
        "            tmp = normalise_zero_base(tmp)\n",
        "        window_data.append(tmp.values)\n",
        "    return np.array(window_data)"
      ],
      "execution_count": 53,
      "outputs": []
    },
    {
      "cell_type": "code",
      "metadata": {
        "trusted": true,
        "id": "aTBbhnezpskk"
      },
      "source": [
        "def prepare_data(df, target_col, window_len=10, zero_base=True, test_size=0.2):\n",
        "    train_data, test_data = train_test_split(df, test_size=test_size)\n",
        "    X_train = extract_window_data(train_data, window_len, zero_base)\n",
        "    X_test = extract_window_data(test_data, window_len, zero_base)\n",
        "    y_train = train_data[target_col][window_len:].values\n",
        "    y_test = test_data[target_col][window_len:].values\n",
        "    if zero_base:\n",
        "        y_train = y_train / train_data[target_col][:-window_len].values - 1\n",
        "        y_test = y_test / test_data[target_col][:-window_len].values - 1\n",
        "\n",
        "    return train_data, test_data, X_train, X_test, y_train, y_test"
      ],
      "execution_count": 54,
      "outputs": []
    },
    {
      "cell_type": "code",
      "metadata": {
        "trusted": true,
        "id": "VjWtS2qJpskn"
      },
      "source": [
        "def build_lstm_model(input_data, output_size, neurons=100, activ_func='linear',\n",
        "                     dropout=0.2, loss='mse', optimizer='adam'):\n",
        "    model = Sequential()\n",
        "    model.add(LSTM(neurons, input_shape=(input_data.shape[1], input_data.shape[2])))\n",
        "    model.add(Dropout(dropout))\n",
        "    model.add(Dense(units=output_size))\n",
        "    model.add(Activation(activ_func))\n",
        "\n",
        "    model.compile(loss=loss, optimizer=optimizer)\n",
        "    return model"
      ],
      "execution_count": 55,
      "outputs": []
    },
    {
      "cell_type": "code",
      "metadata": {
        "trusted": true,
        "id": "aADcao3Qpskq"
      },
      "source": [
        "np.random.seed(42)\n",
        "window_len = 5\n",
        "test_size = 0.2\n",
        "zero_base = True\n",
        "lstm_neurons = 100\n",
        "epochs = 50\n",
        "batch_size = 32\n",
        "loss = 'mse'\n",
        "dropout = 0.2\n",
        "optimizer = 'adam'"
      ],
      "execution_count": 56,
      "outputs": []
    },
    {
      "cell_type": "code",
      "metadata": {
        "trusted": true,
        "id": "rAw5VBtwpskt"
      },
      "source": [
        "train, test, X_train, X_test, y_train, y_test = prepare_data(\n",
        "    df, target_col, window_len=window_len, zero_base=zero_base, test_size=test_size)"
      ],
      "execution_count": 57,
      "outputs": []
    },
    {
      "cell_type": "code",
      "metadata": {
        "trusted": true,
        "id": "E5T9OAwQpskw",
        "colab": {
          "base_uri": "https://localhost:8080/"
        },
        "outputId": "83baf3bd-600d-4787-f5e5-775e47643bd3"
      },
      "source": [
        "model = build_lstm_model(\n",
        "    X_train, output_size=1, neurons=lstm_neurons, dropout=dropout, loss=loss,\n",
        "    optimizer=optimizer)\n",
        "history = model.fit(\n",
        "    X_train, y_train, validation_data=(X_test, y_test), epochs=epochs, batch_size=batch_size, verbose=1, shuffle=True)"
      ],
      "execution_count": 58,
      "outputs": [
        {
          "output_type": "stream",
          "name": "stdout",
          "text": [
            "Epoch 1/50\n",
            "25/25 [==============================] - 2s 25ms/step - loss: 0.0095 - val_loss: 0.0076\n",
            "Epoch 2/50\n",
            "25/25 [==============================] - 0s 6ms/step - loss: 0.0053 - val_loss: 0.0065\n",
            "Epoch 3/50\n",
            "25/25 [==============================] - 0s 6ms/step - loss: 0.0047 - val_loss: 0.0059\n",
            "Epoch 4/50\n",
            "25/25 [==============================] - 0s 6ms/step - loss: 0.0043 - val_loss: 0.0053\n",
            "Epoch 5/50\n",
            "25/25 [==============================] - 0s 6ms/step - loss: 0.0040 - val_loss: 0.0049\n",
            "Epoch 6/50\n",
            "25/25 [==============================] - 0s 6ms/step - loss: 0.0037 - val_loss: 0.0048\n",
            "Epoch 7/50\n",
            "25/25 [==============================] - 0s 6ms/step - loss: 0.0035 - val_loss: 0.0045\n",
            "Epoch 8/50\n",
            "25/25 [==============================] - 0s 6ms/step - loss: 0.0034 - val_loss: 0.0045\n",
            "Epoch 9/50\n",
            "25/25 [==============================] - 0s 6ms/step - loss: 0.0033 - val_loss: 0.0043\n",
            "Epoch 10/50\n",
            "25/25 [==============================] - 0s 6ms/step - loss: 0.0032 - val_loss: 0.0041\n",
            "Epoch 11/50\n",
            "25/25 [==============================] - 0s 6ms/step - loss: 0.0033 - val_loss: 0.0047\n",
            "Epoch 12/50\n",
            "25/25 [==============================] - 0s 6ms/step - loss: 0.0032 - val_loss: 0.0040\n",
            "Epoch 13/50\n",
            "25/25 [==============================] - 0s 6ms/step - loss: 0.0031 - val_loss: 0.0040\n",
            "Epoch 14/50\n",
            "25/25 [==============================] - 0s 6ms/step - loss: 0.0030 - val_loss: 0.0041\n",
            "Epoch 15/50\n",
            "25/25 [==============================] - 0s 6ms/step - loss: 0.0031 - val_loss: 0.0039\n",
            "Epoch 16/50\n",
            "25/25 [==============================] - 0s 6ms/step - loss: 0.0029 - val_loss: 0.0039\n",
            "Epoch 17/50\n",
            "25/25 [==============================] - 0s 6ms/step - loss: 0.0029 - val_loss: 0.0038\n",
            "Epoch 18/50\n",
            "25/25 [==============================] - 0s 6ms/step - loss: 0.0027 - val_loss: 0.0039\n",
            "Epoch 19/50\n",
            "25/25 [==============================] - 0s 6ms/step - loss: 0.0028 - val_loss: 0.0038\n",
            "Epoch 20/50\n",
            "25/25 [==============================] - 0s 6ms/step - loss: 0.0027 - val_loss: 0.0037\n",
            "Epoch 21/50\n",
            "25/25 [==============================] - 0s 6ms/step - loss: 0.0027 - val_loss: 0.0038\n",
            "Epoch 22/50\n",
            "25/25 [==============================] - 0s 6ms/step - loss: 0.0028 - val_loss: 0.0038\n",
            "Epoch 23/50\n",
            "25/25 [==============================] - 0s 7ms/step - loss: 0.0027 - val_loss: 0.0037\n",
            "Epoch 24/50\n",
            "25/25 [==============================] - 0s 6ms/step - loss: 0.0027 - val_loss: 0.0037\n",
            "Epoch 25/50\n",
            "25/25 [==============================] - 0s 6ms/step - loss: 0.0027 - val_loss: 0.0037\n",
            "Epoch 26/50\n",
            "25/25 [==============================] - 0s 6ms/step - loss: 0.0028 - val_loss: 0.0038\n",
            "Epoch 27/50\n",
            "25/25 [==============================] - 0s 6ms/step - loss: 0.0028 - val_loss: 0.0037\n",
            "Epoch 28/50\n",
            "25/25 [==============================] - 0s 6ms/step - loss: 0.0028 - val_loss: 0.0036\n",
            "Epoch 29/50\n",
            "25/25 [==============================] - 0s 6ms/step - loss: 0.0027 - val_loss: 0.0036\n",
            "Epoch 30/50\n",
            "25/25 [==============================] - 0s 6ms/step - loss: 0.0027 - val_loss: 0.0036\n",
            "Epoch 31/50\n",
            "25/25 [==============================] - 0s 6ms/step - loss: 0.0026 - val_loss: 0.0036\n",
            "Epoch 32/50\n",
            "25/25 [==============================] - 0s 6ms/step - loss: 0.0026 - val_loss: 0.0035\n",
            "Epoch 33/50\n",
            "25/25 [==============================] - 0s 6ms/step - loss: 0.0027 - val_loss: 0.0036\n",
            "Epoch 34/50\n",
            "25/25 [==============================] - 0s 6ms/step - loss: 0.0026 - val_loss: 0.0035\n",
            "Epoch 35/50\n",
            "25/25 [==============================] - 0s 6ms/step - loss: 0.0026 - val_loss: 0.0035\n",
            "Epoch 36/50\n",
            "25/25 [==============================] - 0s 6ms/step - loss: 0.0026 - val_loss: 0.0035\n",
            "Epoch 37/50\n",
            "25/25 [==============================] - 0s 6ms/step - loss: 0.0026 - val_loss: 0.0035\n",
            "Epoch 38/50\n",
            "25/25 [==============================] - 0s 6ms/step - loss: 0.0026 - val_loss: 0.0035\n",
            "Epoch 39/50\n",
            "25/25 [==============================] - 0s 6ms/step - loss: 0.0027 - val_loss: 0.0039\n",
            "Epoch 40/50\n",
            "25/25 [==============================] - 0s 6ms/step - loss: 0.0026 - val_loss: 0.0036\n",
            "Epoch 41/50\n",
            "25/25 [==============================] - 0s 6ms/step - loss: 0.0025 - val_loss: 0.0035\n",
            "Epoch 42/50\n",
            "25/25 [==============================] - 0s 7ms/step - loss: 0.0026 - val_loss: 0.0034\n",
            "Epoch 43/50\n",
            "25/25 [==============================] - 0s 6ms/step - loss: 0.0026 - val_loss: 0.0035\n",
            "Epoch 44/50\n",
            "25/25 [==============================] - 0s 6ms/step - loss: 0.0025 - val_loss: 0.0035\n",
            "Epoch 45/50\n",
            "25/25 [==============================] - 0s 6ms/step - loss: 0.0026 - val_loss: 0.0035\n",
            "Epoch 46/50\n",
            "25/25 [==============================] - 0s 6ms/step - loss: 0.0026 - val_loss: 0.0034\n",
            "Epoch 47/50\n",
            "25/25 [==============================] - 0s 6ms/step - loss: 0.0025 - val_loss: 0.0034\n",
            "Epoch 48/50\n",
            "25/25 [==============================] - 0s 6ms/step - loss: 0.0026 - val_loss: 0.0036\n",
            "Epoch 49/50\n",
            "25/25 [==============================] - 0s 6ms/step - loss: 0.0026 - val_loss: 0.0036\n",
            "Epoch 50/50\n",
            "25/25 [==============================] - 0s 6ms/step - loss: 0.0026 - val_loss: 0.0034\n"
          ]
        }
      ]
    },
    {
      "cell_type": "code",
      "metadata": {
        "id": "qhMsatri0miT",
        "colab": {
          "base_uri": "https://localhost:8080/",
          "height": 295
        },
        "outputId": "67ef96f8-f78a-4097-f70d-79906d80aab5"
      },
      "source": [
        "plt.plot(history.history['loss'],'r',linewidth=2, label='Train loss')\n",
        "plt.plot(history.history['val_loss'], 'g',linewidth=2, label='Validation loss')\n",
        "plt.title('LSTM')\n",
        "plt.xlabel('Epochs')\n",
        "plt.ylabel('MSE')\n",
        "plt.show()"
      ],
      "execution_count": 59,
      "outputs": [
        {
          "output_type": "display_data",
          "data": {
            "image/png": "[encoded data removed]",
            "text/plain": [
              "<Figure size 432x288 with 1 Axes>"
            ]
          },
          "metadata": {
            "needs_background": "light"
          }
        }
      ]
    },
    {
      "cell_type": "code",
      "metadata": {
        "trusted": true,
        "id": "mS6SPIGNpskz"
      },
      "source": [
        "targets = test[target_col][window_len:]\n",
        "preds = model.predict(X_test).squeeze()\n",
        "mae = mean_absolute_error(preds, y_test)\n"
      ],
      "execution_count": 60,
      "outputs": []
    },
    {
      "cell_type": "code",
      "metadata": {
        "colab": {
          "base_uri": "https://localhost:8080/"
        },
        "id": "55Pv7t-7NYu4",
        "outputId": "f0165a94-2d6f-4a36-db31-4f976ee27d1f"
      },
      "source": [
        "print(\"mean absolute error:\",mae)"
      ],
      "execution_count": 61,
      "outputs": [
        {
          "output_type": "stream",
          "name": "stdout",
          "text": [
            "mean absolute error: 0.044533147373224904\n"
          ]
        }
      ]
    },
    {
      "cell_type": "code",
      "metadata": {
        "id": "sbhTW5T6zVAU"
      },
      "source": [
        "from sklearn.metrics import mean_squared_error\n",
        "MSE=mean_squared_error(preds, y_test)\n",
        "\n"
      ],
      "execution_count": 62,
      "outputs": []
    },
    {
      "cell_type": "code",
      "metadata": {
        "colab": {
          "base_uri": "https://localhost:8080/"
        },
        "id": "Ce16hARZNijc",
        "outputId": "cc047c4d-da47-40d4-a9f0-cb7c5ab03635"
      },
      "source": [
        "print(\"mean squared error:\",MSE)"
      ],
      "execution_count": 63,
      "outputs": [
        {
          "output_type": "stream",
          "name": "stdout",
          "text": [
            "mean squared error: 0.0034058715529387148\n"
          ]
        }
      ]
    },
    {
      "cell_type": "code",
      "metadata": {
        "trusted": true,
        "id": "4jU0wERepsk2",
        "colab": {
          "base_uri": "https://localhost:8080/",
          "height": 428
        },
        "outputId": "f6de1504-b289-4700-e196-b87fb99d7c09"
      },
      "source": [
        "preds = test[target_col].values[:-window_len] * (preds + 1)\n",
        "preds = pd.Series(index=targets.index, data=preds)\n",
        "line_plot(targets, preds, 'actual', 'prediction', lw=3)"
      ],
      "execution_count": 64,
      "outputs": [
        {
          "output_type": "display_data",
          "data": {
            "image/png": "[encoded data removed]",
            "text/plain": [
              "<Figure size 936x504 with 1 Axes>"
            ]
          },
          "metadata": {
            "needs_background": "light"
          }
        }
      ]
    },
    {
      "cell_type": "code",
      "metadata": {
        "id": "ngCsa-1ONpWU"
      },
      "source": [
        ""
      ],
      "execution_count": 64,
      "outputs": []
    }
  ]
}